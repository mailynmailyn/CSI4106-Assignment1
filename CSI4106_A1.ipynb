{
  "cells": [
    {
      "cell_type": "markdown",
      "metadata": {
        "id": "SPeulvp-meob"
      },
      "source": [
        "**ASSIGNMENT 1 - EMPIRICAL STUDY OF KNAPSACK PROBLEM**"
      ]
    },
    {
      "cell_type": "markdown",
      "metadata": {
        "id": "Yq6OGiMX_da0"
      },
      "source": [
        "**Knapsack Problem**\n",
        "\n",
        "The 0/1 Knapsack Problem is a classic optimization challenge where you're provided with a set of items, each with a weight and a value, and tasked with selecting the most valuable combination of items to fit into a knapsack with a limited weight capacity, making binary decisions (0 for exclusion, 1 for inclusion) for each item. The objective is to maximize the total value of the chosen items while ensuring that their cumulative weight doesn't exceed the knapsack's capacity. In this assignment we look at different algorithms in producing an optimal solution to the 0/1 Knapsack Problem."
      ]
    },
    {
      "cell_type": "markdown",
      "metadata": {
        "id": "C8vwHE0G_iOG"
      },
      "source": [
        "**Dataset**\n",
        "\n",
        "The dataset used for this assignment sourced from: https://www.kaggle.com/datasets/warcoder/knapsack-problem?resource=download\n",
        "\n",
        "The dataset consists of 9999 unique 0/1 Knapsack Problem instances, with 5 attribute columns.\n",
        "Attribute columns include:\n",
        "1. Weights - list of item weights\n",
        "2. Prices - coressponding list of item values/prices\n",
        "3. Capacity - max weight capcity of bag\n",
        "4. Best picks - optimal selection of items, represented in 0s and 1s\n",
        "5. Best price - the corresponding optimal value of optimal selected items"
      ]
    },
    {
      "cell_type": "markdown",
      "metadata": {
        "id": "OZTWy1qN2BzY"
      },
      "source": [
        "**Import important libraries**"
      ]
    },
    {
      "cell_type": "code",
      "execution_count": null,
      "metadata": {
        "id": "GmP1buROhaOx"
      },
      "outputs": [],
      "source": [
        "import pandas as pd\n",
        "import itertools\n",
        "import numpy as np"
      ]
    },
    {
      "cell_type": "markdown",
      "metadata": {
        "id": "wNJyoeCz00Kr"
      },
      "source": [
        "**Read Dataset**"
      ]
    },
    {
      "cell_type": "code",
      "execution_count": null,
      "metadata": {
        "id": "BrhpM-HwhaOy"
      },
      "outputs": [],
      "source": [
        "url = 'https://raw.githubusercontent.com/mailynmailyn/CSI4106-Assignment1/main/knapsack_5_items.csv'\n",
        "\n",
        "dataset = pd.read_csv(url)"
      ]
    },
    {
      "cell_type": "markdown",
      "metadata": {
        "id": "4Drc71BY2a7w"
      },
      "source": [
        "Let's see what are the columns of the dataset? :"
      ]
    },
    {
      "cell_type": "code",
      "execution_count": null,
      "metadata": {
        "colab": {
          "base_uri": "https://localhost:8080/"
        },
        "id": "pGxZXmhNhaOz",
        "outputId": "9d330160-4cba-4e21-e306-22dbda1c3cc9"
      },
      "outputs": [
        {
          "output_type": "execute_result",
          "data": {
            "text/plain": [
              "Index(['Weights', 'Prices', 'Capacity', 'Best picks', 'Best price'], dtype='object')"
            ]
          },
          "metadata": {},
          "execution_count": 27
        }
      ],
      "source": [
        "dataset.columns"
      ]
    },
    {
      "cell_type": "markdown",
      "metadata": {
        "id": "aNZaqcCT2w-T"
      },
      "source": [
        "As we expected, we have columns for weights, costs, capacity, best picks and best price for all the instances."
      ]
    },
    {
      "cell_type": "markdown",
      "metadata": {
        "id": "jkokOHRj2kgZ"
      },
      "source": [
        "Now let's see the first 10 entries (rows):"
      ]
    },
    {
      "cell_type": "code",
      "execution_count": null,
      "metadata": {
        "colab": {
          "base_uri": "https://localhost:8080/",
          "height": 363
        },
        "id": "0xqfPrBEhaOz",
        "outputId": "5dbae8d5-46a0-4175-f6c1-0e411be8b977"
      },
      "outputs": [
        {
          "output_type": "execute_result",
          "data": {
            "text/plain": [
              "            Weights            Prices  Capacity        Best picks  Best price\n",
              "0  [46 40 42 38 10]  [12 19 19 15  8]        40  [0. 1. 0. 0. 0.]        19.0\n",
              "1  [11 31  4  6  7]  [ 2  8 18 16  3]        64  [1. 1. 1. 1. 1.]        47.0\n",
              "2  [32 49 27 37 24]  [19 16 16  4  1]        87  [1. 0. 1. 0. 1.]        36.0\n",
              "3  [20 35 22 23 16]  [19 17 19  9  1]        21  [1. 0. 0. 0. 0.]        19.0\n",
              "4  [ 7 12 19 13 20]  [10 11 18 15  5]        50  [0. 1. 1. 1. 0.]        44.0\n",
              "5  [27 10 25 25  7]  [13 19  7 16  3]        66  [1. 1. 0. 1. 0.]        48.0\n",
              "6  [21  2 33 45 26]  [ 1 14 10  6 13]        80  [0. 1. 1. 0. 1.]        37.0\n",
              "7  [37 27 39 14 25]  [18  7 15  4 13]        35  [0. 0. 0. 0. 1.]        13.0\n",
              "8  [ 1 48  4 23 39]  [ 9  4 10 16 12]        51  [1. 0. 1. 1. 0.]        35.0\n",
              "9  [ 4  3 22  9 32]  [14  6  3 17  8]        53  [1. 1. 0. 1. 1.]        45.0"
            ],
            "text/html": [
              "\n",
              "  <div id=\"df-6172df5f-628f-4bcd-b470-d682315857b2\" class=\"colab-df-container\">\n",
              "    <div>\n",
              "<style scoped>\n",
              "    .dataframe tbody tr th:only-of-type {\n",
              "        vertical-align: middle;\n",
              "    }\n",
              "\n",
              "    .dataframe tbody tr th {\n",
              "        vertical-align: top;\n",
              "    }\n",
              "\n",
              "    .dataframe thead th {\n",
              "        text-align: right;\n",
              "    }\n",
              "</style>\n",
              "<table border=\"1\" class=\"dataframe\">\n",
              "  <thead>\n",
              "    <tr style=\"text-align: right;\">\n",
              "      <th></th>\n",
              "      <th>Weights</th>\n",
              "      <th>Prices</th>\n",
              "      <th>Capacity</th>\n",
              "      <th>Best picks</th>\n",
              "      <th>Best price</th>\n",
              "    </tr>\n",
              "  </thead>\n",
              "  <tbody>\n",
              "    <tr>\n",
              "      <th>0</th>\n",
              "      <td>[46 40 42 38 10]</td>\n",
              "      <td>[12 19 19 15  8]</td>\n",
              "      <td>40</td>\n",
              "      <td>[0. 1. 0. 0. 0.]</td>\n",
              "      <td>19.0</td>\n",
              "    </tr>\n",
              "    <tr>\n",
              "      <th>1</th>\n",
              "      <td>[11 31  4  6  7]</td>\n",
              "      <td>[ 2  8 18 16  3]</td>\n",
              "      <td>64</td>\n",
              "      <td>[1. 1. 1. 1. 1.]</td>\n",
              "      <td>47.0</td>\n",
              "    </tr>\n",
              "    <tr>\n",
              "      <th>2</th>\n",
              "      <td>[32 49 27 37 24]</td>\n",
              "      <td>[19 16 16  4  1]</td>\n",
              "      <td>87</td>\n",
              "      <td>[1. 0. 1. 0. 1.]</td>\n",
              "      <td>36.0</td>\n",
              "    </tr>\n",
              "    <tr>\n",
              "      <th>3</th>\n",
              "      <td>[20 35 22 23 16]</td>\n",
              "      <td>[19 17 19  9  1]</td>\n",
              "      <td>21</td>\n",
              "      <td>[1. 0. 0. 0. 0.]</td>\n",
              "      <td>19.0</td>\n",
              "    </tr>\n",
              "    <tr>\n",
              "      <th>4</th>\n",
              "      <td>[ 7 12 19 13 20]</td>\n",
              "      <td>[10 11 18 15  5]</td>\n",
              "      <td>50</td>\n",
              "      <td>[0. 1. 1. 1. 0.]</td>\n",
              "      <td>44.0</td>\n",
              "    </tr>\n",
              "    <tr>\n",
              "      <th>5</th>\n",
              "      <td>[27 10 25 25  7]</td>\n",
              "      <td>[13 19  7 16  3]</td>\n",
              "      <td>66</td>\n",
              "      <td>[1. 1. 0. 1. 0.]</td>\n",
              "      <td>48.0</td>\n",
              "    </tr>\n",
              "    <tr>\n",
              "      <th>6</th>\n",
              "      <td>[21  2 33 45 26]</td>\n",
              "      <td>[ 1 14 10  6 13]</td>\n",
              "      <td>80</td>\n",
              "      <td>[0. 1. 1. 0. 1.]</td>\n",
              "      <td>37.0</td>\n",
              "    </tr>\n",
              "    <tr>\n",
              "      <th>7</th>\n",
              "      <td>[37 27 39 14 25]</td>\n",
              "      <td>[18  7 15  4 13]</td>\n",
              "      <td>35</td>\n",
              "      <td>[0. 0. 0. 0. 1.]</td>\n",
              "      <td>13.0</td>\n",
              "    </tr>\n",
              "    <tr>\n",
              "      <th>8</th>\n",
              "      <td>[ 1 48  4 23 39]</td>\n",
              "      <td>[ 9  4 10 16 12]</td>\n",
              "      <td>51</td>\n",
              "      <td>[1. 0. 1. 1. 0.]</td>\n",
              "      <td>35.0</td>\n",
              "    </tr>\n",
              "    <tr>\n",
              "      <th>9</th>\n",
              "      <td>[ 4  3 22  9 32]</td>\n",
              "      <td>[14  6  3 17  8]</td>\n",
              "      <td>53</td>\n",
              "      <td>[1. 1. 0. 1. 1.]</td>\n",
              "      <td>45.0</td>\n",
              "    </tr>\n",
              "  </tbody>\n",
              "</table>\n",
              "</div>\n",
              "    <div class=\"colab-df-buttons\">\n",
              "\n",
              "  <div class=\"colab-df-container\">\n",
              "    <button class=\"colab-df-convert\" onclick=\"convertToInteractive('df-6172df5f-628f-4bcd-b470-d682315857b2')\"\n",
              "            title=\"Convert this dataframe to an interactive table.\"\n",
              "            style=\"display:none;\">\n",
              "\n",
              "  <svg xmlns=\"http://www.w3.org/2000/svg\" height=\"24px\" viewBox=\"0 -960 960 960\">\n",
              "    <path d=\"M120-120v-720h720v720H120Zm60-500h600v-160H180v160Zm220 220h160v-160H400v160Zm0 220h160v-160H400v160ZM180-400h160v-160H180v160Zm440 0h160v-160H620v160ZM180-180h160v-160H180v160Zm440 0h160v-160H620v160Z\"/>\n",
              "  </svg>\n",
              "    </button>\n",
              "\n",
              "  <style>\n",
              "    .colab-df-container {\n",
              "      display:flex;\n",
              "      gap: 12px;\n",
              "    }\n",
              "\n",
              "    .colab-df-convert {\n",
              "      background-color: #E8F0FE;\n",
              "      border: none;\n",
              "      border-radius: 50%;\n",
              "      cursor: pointer;\n",
              "      display: none;\n",
              "      fill: #1967D2;\n",
              "      height: 32px;\n",
              "      padding: 0 0 0 0;\n",
              "      width: 32px;\n",
              "    }\n",
              "\n",
              "    .colab-df-convert:hover {\n",
              "      background-color: #E2EBFA;\n",
              "      box-shadow: 0px 1px 2px rgba(60, 64, 67, 0.3), 0px 1px 3px 1px rgba(60, 64, 67, 0.15);\n",
              "      fill: #174EA6;\n",
              "    }\n",
              "\n",
              "    .colab-df-buttons div {\n",
              "      margin-bottom: 4px;\n",
              "    }\n",
              "\n",
              "    [theme=dark] .colab-df-convert {\n",
              "      background-color: #3B4455;\n",
              "      fill: #D2E3FC;\n",
              "    }\n",
              "\n",
              "    [theme=dark] .colab-df-convert:hover {\n",
              "      background-color: #434B5C;\n",
              "      box-shadow: 0px 1px 3px 1px rgba(0, 0, 0, 0.15);\n",
              "      filter: drop-shadow(0px 1px 2px rgba(0, 0, 0, 0.3));\n",
              "      fill: #FFFFFF;\n",
              "    }\n",
              "  </style>\n",
              "\n",
              "    <script>\n",
              "      const buttonEl =\n",
              "        document.querySelector('#df-6172df5f-628f-4bcd-b470-d682315857b2 button.colab-df-convert');\n",
              "      buttonEl.style.display =\n",
              "        google.colab.kernel.accessAllowed ? 'block' : 'none';\n",
              "\n",
              "      async function convertToInteractive(key) {\n",
              "        const element = document.querySelector('#df-6172df5f-628f-4bcd-b470-d682315857b2');\n",
              "        const dataTable =\n",
              "          await google.colab.kernel.invokeFunction('convertToInteractive',\n",
              "                                                    [key], {});\n",
              "        if (!dataTable) return;\n",
              "\n",
              "        const docLinkHtml = 'Like what you see? Visit the ' +\n",
              "          '<a target=\"_blank\" href=https://colab.research.google.com/notebooks/data_table.ipynb>data table notebook</a>'\n",
              "          + ' to learn more about interactive tables.';\n",
              "        element.innerHTML = '';\n",
              "        dataTable['output_type'] = 'display_data';\n",
              "        await google.colab.output.renderOutput(dataTable, element);\n",
              "        const docLink = document.createElement('div');\n",
              "        docLink.innerHTML = docLinkHtml;\n",
              "        element.appendChild(docLink);\n",
              "      }\n",
              "    </script>\n",
              "  </div>\n",
              "\n",
              "\n",
              "<div id=\"df-5573a7eb-40db-4677-978b-571a86f491af\">\n",
              "  <button class=\"colab-df-quickchart\" onclick=\"quickchart('df-5573a7eb-40db-4677-978b-571a86f491af')\"\n",
              "            title=\"Suggest charts.\"\n",
              "            style=\"display:none;\">\n",
              "\n",
              "<svg xmlns=\"http://www.w3.org/2000/svg\" height=\"24px\"viewBox=\"0 0 24 24\"\n",
              "     width=\"24px\">\n",
              "    <g>\n",
              "        <path d=\"M19 3H5c-1.1 0-2 .9-2 2v14c0 1.1.9 2 2 2h14c1.1 0 2-.9 2-2V5c0-1.1-.9-2-2-2zM9 17H7v-7h2v7zm4 0h-2V7h2v10zm4 0h-2v-4h2v4z\"/>\n",
              "    </g>\n",
              "</svg>\n",
              "  </button>\n",
              "\n",
              "<style>\n",
              "  .colab-df-quickchart {\n",
              "      --bg-color: #E8F0FE;\n",
              "      --fill-color: #1967D2;\n",
              "      --hover-bg-color: #E2EBFA;\n",
              "      --hover-fill-color: #174EA6;\n",
              "      --disabled-fill-color: #AAA;\n",
              "      --disabled-bg-color: #DDD;\n",
              "  }\n",
              "\n",
              "  [theme=dark] .colab-df-quickchart {\n",
              "      --bg-color: #3B4455;\n",
              "      --fill-color: #D2E3FC;\n",
              "      --hover-bg-color: #434B5C;\n",
              "      --hover-fill-color: #FFFFFF;\n",
              "      --disabled-bg-color: #3B4455;\n",
              "      --disabled-fill-color: #666;\n",
              "  }\n",
              "\n",
              "  .colab-df-quickchart {\n",
              "    background-color: var(--bg-color);\n",
              "    border: none;\n",
              "    border-radius: 50%;\n",
              "    cursor: pointer;\n",
              "    display: none;\n",
              "    fill: var(--fill-color);\n",
              "    height: 32px;\n",
              "    padding: 0;\n",
              "    width: 32px;\n",
              "  }\n",
              "\n",
              "  .colab-df-quickchart:hover {\n",
              "    background-color: var(--hover-bg-color);\n",
              "    box-shadow: 0 1px 2px rgba(60, 64, 67, 0.3), 0 1px 3px 1px rgba(60, 64, 67, 0.15);\n",
              "    fill: var(--button-hover-fill-color);\n",
              "  }\n",
              "\n",
              "  .colab-df-quickchart-complete:disabled,\n",
              "  .colab-df-quickchart-complete:disabled:hover {\n",
              "    background-color: var(--disabled-bg-color);\n",
              "    fill: var(--disabled-fill-color);\n",
              "    box-shadow: none;\n",
              "  }\n",
              "\n",
              "  .colab-df-spinner {\n",
              "    border: 2px solid var(--fill-color);\n",
              "    border-color: transparent;\n",
              "    border-bottom-color: var(--fill-color);\n",
              "    animation:\n",
              "      spin 1s steps(1) infinite;\n",
              "  }\n",
              "\n",
              "  @keyframes spin {\n",
              "    0% {\n",
              "      border-color: transparent;\n",
              "      border-bottom-color: var(--fill-color);\n",
              "      border-left-color: var(--fill-color);\n",
              "    }\n",
              "    20% {\n",
              "      border-color: transparent;\n",
              "      border-left-color: var(--fill-color);\n",
              "      border-top-color: var(--fill-color);\n",
              "    }\n",
              "    30% {\n",
              "      border-color: transparent;\n",
              "      border-left-color: var(--fill-color);\n",
              "      border-top-color: var(--fill-color);\n",
              "      border-right-color: var(--fill-color);\n",
              "    }\n",
              "    40% {\n",
              "      border-color: transparent;\n",
              "      border-right-color: var(--fill-color);\n",
              "      border-top-color: var(--fill-color);\n",
              "    }\n",
              "    60% {\n",
              "      border-color: transparent;\n",
              "      border-right-color: var(--fill-color);\n",
              "    }\n",
              "    80% {\n",
              "      border-color: transparent;\n",
              "      border-right-color: var(--fill-color);\n",
              "      border-bottom-color: var(--fill-color);\n",
              "    }\n",
              "    90% {\n",
              "      border-color: transparent;\n",
              "      border-bottom-color: var(--fill-color);\n",
              "    }\n",
              "  }\n",
              "</style>\n",
              "\n",
              "  <script>\n",
              "    async function quickchart(key) {\n",
              "      const quickchartButtonEl =\n",
              "        document.querySelector('#' + key + ' button');\n",
              "      quickchartButtonEl.disabled = true;  // To prevent multiple clicks.\n",
              "      quickchartButtonEl.classList.add('colab-df-spinner');\n",
              "      try {\n",
              "        const charts = await google.colab.kernel.invokeFunction(\n",
              "            'suggestCharts', [key], {});\n",
              "      } catch (error) {\n",
              "        console.error('Error during call to suggestCharts:', error);\n",
              "      }\n",
              "      quickchartButtonEl.classList.remove('colab-df-spinner');\n",
              "      quickchartButtonEl.classList.add('colab-df-quickchart-complete');\n",
              "    }\n",
              "    (() => {\n",
              "      let quickchartButtonEl =\n",
              "        document.querySelector('#df-5573a7eb-40db-4677-978b-571a86f491af button');\n",
              "      quickchartButtonEl.style.display =\n",
              "        google.colab.kernel.accessAllowed ? 'block' : 'none';\n",
              "    })();\n",
              "  </script>\n",
              "</div>\n",
              "    </div>\n",
              "  </div>\n"
            ]
          },
          "metadata": {},
          "execution_count": 28
        }
      ],
      "source": [
        "dataset.head(10)"
      ]
    },
    {
      "cell_type": "markdown",
      "metadata": {
        "id": "1dq9VpZh2r2A"
      },
      "source": [
        "**Preprocessing Step**\n"
      ]
    },
    {
      "cell_type": "code",
      "execution_count": null,
      "metadata": {
        "id": "BmUtgrBchaOz"
      },
      "outputs": [],
      "source": [
        "def string_to_list(string):\n",
        "\n",
        "  string_list = string.strip('[]').split()\n",
        "\n",
        "  float_list = [float(element) for element in string_list]\n",
        "\n",
        "  return float_list"
      ]
    },
    {
      "cell_type": "markdown",
      "metadata": {
        "id": "CP1nkMb27A4n"
      },
      "source": [
        "Furthermore, it's possible that certain rows in the dataset contain empty values in specific columns. We also aim to eliminate these rows as they do not provide any useful information. We use dropna() function to do so:"
      ]
    },
    {
      "cell_type": "code",
      "execution_count": null,
      "metadata": {
        "id": "LT_iYgxhhaO0",
        "colab": {
          "base_uri": "https://localhost:8080/"
        },
        "outputId": "fda7c39d-36c3-4cba-92bb-3d080b9e684f"
      },
      "outputs": [
        {
          "output_type": "stream",
          "name": "stderr",
          "text": [
            "<ipython-input-30-833fb421dc49>:5: SettingWithCopyWarning: \n",
            "A value is trying to be set on a copy of a slice from a DataFrame.\n",
            "Try using .loc[row_indexer,col_indexer] = value instead\n",
            "\n",
            "See the caveats in the documentation: https://pandas.pydata.org/pandas-docs/stable/user_guide/indexing.html#returning-a-view-versus-a-copy\n",
            "  dataset.Weights = dataset.Weights.apply(lambda x : string_to_list(x))\n",
            "<ipython-input-30-833fb421dc49>:6: SettingWithCopyWarning: \n",
            "A value is trying to be set on a copy of a slice from a DataFrame.\n",
            "Try using .loc[row_indexer,col_indexer] = value instead\n",
            "\n",
            "See the caveats in the documentation: https://pandas.pydata.org/pandas-docs/stable/user_guide/indexing.html#returning-a-view-versus-a-copy\n",
            "  dataset.Prices = dataset.Prices.apply(lambda x : string_to_list(x))\n",
            "<ipython-input-30-833fb421dc49>:7: SettingWithCopyWarning: \n",
            "A value is trying to be set on a copy of a slice from a DataFrame.\n",
            "Try using .loc[row_indexer,col_indexer] = value instead\n",
            "\n",
            "See the caveats in the documentation: https://pandas.pydata.org/pandas-docs/stable/user_guide/indexing.html#returning-a-view-versus-a-copy\n",
            "  dataset['Best picks'] = dataset['Best picks'].apply(lambda x : string_to_list(x))\n"
          ]
        }
      ],
      "source": [
        "#Ignore the warning messages.\n",
        "\n",
        "dataset = dataset.dropna()\n",
        "\n",
        "dataset.Weights = dataset.Weights.apply(lambda x : string_to_list(x))\n",
        "dataset.Prices = dataset.Prices.apply(lambda x : string_to_list(x))\n",
        "dataset['Best picks'] = dataset['Best picks'].apply(lambda x : string_to_list(x))"
      ]
    },
    {
      "cell_type": "markdown",
      "metadata": {
        "id": "0ER3-7di7ufy"
      },
      "source": [
        "**4. Generate and Test**\n",
        "\n",
        "Give a description... Also, make sure that you put comments using your own words in the code to show that you understand the code that you are submitting."
      ]
    },
    {
      "cell_type": "code",
      "execution_count": null,
      "metadata": {
        "id": "Y-p99qo3QR8H"
      },
      "outputs": [],
      "source": [
        "\n",
        "# function to calculate valid knapsack item combinations\n",
        "def combinations_mod(weights, capacity):\n",
        "    # generate all permutations of 0s and 1s in 5 spaces\n",
        "    b_combos = itertools.product([0,1], repeat=5)\n",
        "    combinations = []\n",
        "\n",
        "    # if weight of combo exceeds capacity, remove from combination list\n",
        "    for combo in b_combos:\n",
        "        sum = 0\n",
        "        for index, item in enumerate(combo):\n",
        "            if(item == 1):\n",
        "                sum += weights[index]\n",
        "        if sum <= capacity:\n",
        "            combinations += [combo]\n",
        "    return combinations\n"
      ]
    },
    {
      "cell_type": "code",
      "execution_count": null,
      "metadata": {
        "id": "FqN5dVe7haO0"
      },
      "outputs": [],
      "source": [
        "def gen_and_test(data):\n",
        "\n",
        "  best_solution_price = 0\n",
        "  # find all possible knapsack item combinations that are less that capacity\n",
        "  valid_combos = combinations_mod(data[\"Weights\"], data[\"Capacity\"])\n",
        "\n",
        "  for combo in valid_combos:\n",
        "    price = 0\n",
        "\n",
        "    # calculate price of combination, if greater than current best price, replace price and best solution\n",
        "    for index, num in enumerate(data[\"Prices\"]):\n",
        "      if combo[index] == 1:\n",
        "        price += num\n",
        "\n",
        "    if price > best_solution_price:\n",
        "      best_solution_price = price\n",
        "      best_solution = combo\n",
        "\n",
        "  return best_solution_price, best_solution\n",
        "\n"
      ]
    },
    {
      "cell_type": "code",
      "execution_count": null,
      "metadata": {
        "id": "xQyI_WRShaO0"
      },
      "outputs": [],
      "source": [
        "solutions = []\n",
        "for _, row in dataset.iterrows():\n",
        "    target = row['Best price']\n",
        "    solution, indexes = gen_and_test(row)\n",
        "    solutions.append(1 if target == solution else 0)\n"
      ]
    },
    {
      "cell_type": "code",
      "execution_count": null,
      "metadata": {
        "id": "yodeAYV3haO0",
        "colab": {
          "base_uri": "https://localhost:8080/"
        },
        "outputId": "5281d8d4-0933-4a32-de23-263b421f7e18"
      },
      "outputs": [
        {
          "output_type": "stream",
          "name": "stdout",
          "text": [
            "Accuracy of best prices found is 1.0\n"
          ]
        }
      ],
      "source": [
        "# Accuracy\n",
        "print('Accuracy of best prices found is', np.mean(solutions))"
      ]
    },
    {
      "cell_type": "markdown",
      "metadata": {
        "id": "sgYGIJMd-atd"
      },
      "source": [
        "**Your Analysis:**\n",
        "\n",
        "In programming this solution, we were able to generate an accuracy of 1, as we explore every possible knapsack instace which allows us to find the optimal solution each time. This indicates that the solution on Kaggle is trustable. Initially, there was a point at which we recieved an accuracy less than 1, however that was the result of only looking at all weight combinations (as opposed to all vector combinations), which did not take into account duplicated weights."
      ]
    },
    {
      "cell_type": "markdown",
      "metadata": {
        "id": "5rQYdUQx-dGi"
      },
      "source": [
        "------------------------------------------------------------------------------------------------"
      ]
    },
    {
      "cell_type": "markdown",
      "metadata": {
        "id": "z8_ipXOGhaO1"
      },
      "source": [
        "**5. Greedy Search**\n",
        "\n",
        "Give a description... Also, make sure that you put comments using your own words in the code to show that you understand the code that you are submitting."
      ]
    },
    {
      "cell_type": "code",
      "execution_count": null,
      "metadata": {
        "id": "bAfwGLDkhaO2"
      },
      "outputs": [],
      "source": [
        "def greedy(data):\n",
        "  weights = data[\"Weights\"]\n",
        "  values= data[\"Prices\"]\n",
        "  ratios = list(zip(values, weights))\n",
        "\n",
        "  # create list of tuple including the value/weight ratio and it's original index value\n",
        "  for index, ratio in enumerate(ratios):\n",
        "    ratios[index] = (index, (ratio[0]/ratio[1]))\n",
        "\n",
        "  # sort ratios from greatest to least\n",
        "  sorted_ratios = sorted(ratios, key=lambda x: x[1], reverse=True)\n",
        "\n",
        "  held = 0\n",
        "  capacity = data[\"Capacity\"]\n",
        "  price = 0\n",
        "  # start with an empty bag\n",
        "  best_solution = [0, 0, 0, 0, 0]\n",
        "\n",
        "  # loop through ordered ratios, add item to bag if it does not exceed weight capacity\n",
        "  # if item is added to knapsack, increase weight and price respectively, and update the best knapsack solution instance\n",
        "  for ratio in sorted_ratios:\n",
        "\n",
        "    if (held + weights[ratio[0]]) <= capacity:\n",
        "      held += weights[ratio[0]]\n",
        "      price += values[ratio[0]]\n",
        "      best_solution[ratio[0]] = 1\n",
        "\n",
        "  best_solution_price = price\n",
        "\n",
        "  return best_solution_price, best_solution\n"
      ]
    },
    {
      "cell_type": "code",
      "execution_count": null,
      "metadata": {
        "id": "QeS54aqAhwhU"
      },
      "outputs": [],
      "source": [
        "solutions_greedy = []\n",
        "for _, row in dataset.iterrows():\n",
        "    target = row['Best price']\n",
        "    solution, indexes = greedy(row)\n",
        "    solutions_greedy.append(1 if target == solution else 0)\n"
      ]
    },
    {
      "cell_type": "code",
      "execution_count": null,
      "metadata": {
        "id": "xWqCDMs-h0SX",
        "colab": {
          "base_uri": "https://localhost:8080/"
        },
        "outputId": "1779afa9-92a8-43bd-bf8f-e5c66c7a9489"
      },
      "outputs": [
        {
          "output_type": "stream",
          "name": "stdout",
          "text": [
            "Greedy Accuracy is 0.8341937443061038\n"
          ]
        }
      ],
      "source": [
        "print(\"Greedy Accuracy is\", np.mean(solutions_greedy))"
      ]
    },
    {
      "cell_type": "markdown",
      "metadata": {
        "id": "0DKep6e5-nuz"
      },
      "source": [
        "**Your Analysis:**\n",
        "\n",
        "The greedy algorithm provides a quite high accuracy in finding the optimal knapsack instance.\n",
        "\n",
        "Our approach involved choosing the highest value/weight ratio item available, that would not exceed weight capacity.\n",
        "The high accuracy may be due to the amount of possible items being smaller. We assume that with a greater options, the greedy algorithm would become less accurate as there is a greater chance of reaching a local maxima. Also, in discussing with our peers, the greedy algorithm considering only values instead of ratios seems to have a higher accuracy."
      ]
    },
    {
      "cell_type": "markdown",
      "metadata": {
        "id": "XGBWQqlK-lra"
      },
      "source": [
        "------------------------------------------------------------------------------------------------"
      ]
    },
    {
      "cell_type": "markdown",
      "metadata": {
        "id": "PtDW2ja3R93S"
      },
      "source": [
        "**6. Simulated Annealing**\n",
        "\n",
        "Give a description... Also, make sure that you put comments using your own words in the code to show that you understand the code that you are submitting.\n"
      ]
    },
    {
      "cell_type": "code",
      "execution_count": null,
      "metadata": {
        "id": "7rFhuXedSF_3"
      },
      "outputs": [],
      "source": [
        "import random\n",
        "import math\n",
        "\n",
        "def accept(delta_e, temperature):\n",
        "    # if value/energy of new solution is an increase, accept solution\n",
        "    if delta_e > 0:\n",
        "        return True\n",
        "    else:\n",
        "        # deciding on acceptance of worse solution\n",
        "        r = random.random()\n",
        "        if (r < math.exp(delta_e/temperature)):\n",
        "           return True\n",
        "        else:\n",
        "           return False\n",
        "\n",
        "def simulated_annealing(data, N, initial_temperature, cooling_rate):\n",
        "\n",
        "  temperature = initial_temperature\n",
        "\n",
        "  weight = data[\"Weights\"]\n",
        "  value = data[\"Prices\"]\n",
        "  capacity = data[\"Capacity\"]\n",
        "  energy = 0\n",
        "\n",
        "  # # empty bag\n",
        "  # sol = [0,0,0,0,0]\n",
        "\n",
        "  # # greedy bag\n",
        "  # sol = greedy(data)[1]\n",
        "\n",
        "  # random bag\n",
        "  b_combos = list(itertools.product([0,1], repeat=5))\n",
        "  sol = list(random.choice(b_combos))\n",
        "\n",
        "  # calculate weight of random bag instance\n",
        "  weight_total = sum([a * b for a, b in zip(sol, weight)])\n",
        "\n",
        "  # if initial random bag has a weight greater than capacity, regenerate random bag\n",
        "  while weight_total > capacity:\n",
        "    sol = random.choice(b_combos)\n",
        "    weight_total = sum([a * b for a, b in zip(sol, weight)])\n",
        "\n",
        "  # calculate energy, aka price\n",
        "  energy = sum([a * b for a, b in zip(sol, value)])\n",
        "\n",
        "  for i in range(N): #iterate 10 times\n",
        "    #flip random item in bag\n",
        "    flip_index = random.randint(0, 4)\n",
        "    new_sol = list(sol)\n",
        "\n",
        "    if new_sol[flip_index] == 1:\n",
        "      new_sol[flip_index] = 0\n",
        "    else:\n",
        "      new_sol[flip_index] = 1\n",
        "\n",
        "    # calculate energy and weight of newly flipped bag\n",
        "    new_energy = 0\n",
        "    new_weight = 0\n",
        "    new_energy = sum([a * b for a, b in zip(new_sol, value)])\n",
        "    new_weight = sum([a * b for a, b in zip(new_sol, weight)])\n",
        "\n",
        "    # calculate difference between energy of initial bag and newly flipped bag\n",
        "    delta_e = new_energy - energy\n",
        "\n",
        "    # pass new bag to acceptance function\n",
        "    if accept(delta_e, temperature):\n",
        "      # if new bag is accepted and is within weight capacity and has a greater energy than current best solution,  change to optimal solution\n",
        "      if (new_weight <= capacity) and (new_energy >= energy):\n",
        "        sol = new_sol\n",
        "        energy = new_energy\n",
        "\n",
        "    # cool the temperature\n",
        "    temperature = cooling_rate * temperature\n",
        "\n",
        "  best_solution = sol\n",
        "  best_solution_price = energy\n",
        "\n",
        "  return best_solution_price, best_solution\n"
      ]
    },
    {
      "cell_type": "code",
      "execution_count": null,
      "metadata": {
        "id": "mAWQLNsESNIZ"
      },
      "outputs": [],
      "source": [
        "solutions_sa = []\n",
        "for _, row in dataset.iterrows():\n",
        "    target = row['Best price']\n",
        "    solution, indexes = simulated_annealing(row, N = 10, initial_temperature=1, cooling_rate=0.95)\n",
        "    solutions_sa.append(1 if target == solution else 0)\n"
      ]
    },
    {
      "cell_type": "code",
      "execution_count": null,
      "metadata": {
        "id": "jUdWEABkhkih",
        "colab": {
          "base_uri": "https://localhost:8080/"
        },
        "outputId": "956a80bf-235e-4151-98dc-65c739cece6e"
      },
      "outputs": [
        {
          "output_type": "stream",
          "name": "stdout",
          "text": [
            "Simulated Annealing Accuracy is 0.39771231906063365\n"
          ]
        }
      ],
      "source": [
        "print(\"Simulated Annealing Accuracy is\", np.mean(solutions_sa))"
      ]
    },
    {
      "cell_type": "markdown",
      "metadata": {
        "id": "PvvpYOOr-qqr"
      },
      "source": [
        "**Your Analysis:**\n",
        "\n",
        "In exploring multiple other values for cooling rate, there seems to be little to no effect on the final accuracy, same with the initial temperature. Increasing N to 60 iterations improves the accuracy by about 5%, however it stagnates at 45% after this.   \n",
        "\n",
        "Main observations in the accuracy of simulated annealing regarded the starting dataset. The current solution begins with a randomly generated bag. With only the random bag and simulated annealing, the resulting accuracy is around 18%. However, with the addition of an initial check that the starting random bag has a weight within capacity, the accuracy jumps to around 40%.\n",
        "\n",
        "Starting with an empty bag (zero vector) the accuracy is about 35%. Starting with greedy algorithm results shoots accuracy to around 83%, but that is most likely heavily reliant on the greedy algorithm. The percentage doesn't really change over a few trials, so the greedy algorithm is more correct and has less positive impact from annealing.\n",
        "\n",
        "This analysis indicates that either the simulating annealing algorithm is quite inneffective, or there is a bug."
      ]
    },
    {
      "cell_type": "markdown",
      "metadata": {
        "id": "n0QXt7Ys-rCc"
      },
      "source": [
        "------------------------------------------------------------------------------------------------"
      ]
    },
    {
      "cell_type": "markdown",
      "metadata": {
        "id": "RHYjBUvVhtGV"
      },
      "source": [
        "**7. Genetic Algorithm**\n",
        "\n",
        "Give a description... Also, make sure that you put comments using your own words in the code to show that you understand the code that you are submitting."
      ]
    },
    {
      "cell_type": "code",
      "execution_count": null,
      "metadata": {
        "id": "5kGKKUN8iP30"
      },
      "outputs": [],
      "source": [
        "import random\n",
        "\n",
        "def calculate_fitness(bag, prices, weights, capacity):\n",
        "\n",
        "  # calculate price (fitness) and total weight of bag\n",
        "  fitness = sum([a * b for a, b in zip(bag, prices)])\n",
        "  weight = sum([a * b for a, b in zip(bag, weights)])\n",
        "\n",
        "  # if the weight is greater than capacity, fitness is zero\n",
        "  if weight > capacity:\n",
        "    return 0\n",
        "\n",
        "\n",
        "  return fitness\n",
        "\n",
        "def crossover(parent1, parent2, cross_rate):\n",
        "\n",
        "  parent1 = list(parent1)\n",
        "  parent2 = list(parent2)\n",
        "\n",
        "  # based on crossover rate of acceptance\n",
        "  if random.random() > cross_rate:\n",
        "    # calculate random crossover point within parent item list\n",
        "    crossover_point = random.randint(1, len(parent1) - 1)\n",
        "\n",
        "    # # calculate middle crossover point\n",
        "    # crossover_point = len(parent1)//2\n",
        "\n",
        "    # create two children based on crossover halves\n",
        "    child1 = parent1[:crossover_point] + parent2[crossover_point:]\n",
        "    child2 = parent2[:crossover_point] + parent1[crossover_point:]\n",
        "\n",
        "  else:\n",
        "    return parent1, parent2\n",
        "\n",
        "\n",
        "  return child1, child2\n",
        "\n",
        "def mutation(child, mut_rate):\n",
        "\n",
        "  # based on mut_rate of acceptance\n",
        "  if random.random() > mut_rate:\n",
        "    # flip random item in bag\n",
        "    flip_index = random.randint(0, 4)\n",
        "    new_child = list(child)\n",
        "\n",
        "    if child[flip_index] == 1:\n",
        "      new_child[flip_index] = 0\n",
        "    else:\n",
        "      new_child[flip_index] = 1\n",
        "  else:\n",
        "    return child\n",
        "\n",
        "\n",
        "  return new_child\n",
        "\n",
        "def genetic_algorithm(data, population_size, num_generations, mut_rate, cross_rate, tournament_size):\n",
        "\n",
        "  prices = data[\"Prices\"]\n",
        "  weights = data[\"Weights\"]\n",
        "  capacity = data[\"Capacity\"]\n",
        "\n",
        "  # create initial population\n",
        "  # random bag\n",
        "  b_combos = list(itertools.product([0,1], repeat=5))\n",
        "  pop = []\n",
        "\n",
        "  # generate population of random bags\n",
        "  for i in range(population_size):\n",
        "\n",
        "    bag = random.choice(b_combos)\n",
        "    pop.append(random.choice(b_combos))\n",
        "\n",
        "  # for specified number of generations\n",
        "  for _ in range(num_generations):\n",
        "\n",
        "    # calc fitness score of each bag\n",
        "    for index, bag in enumerate(pop):\n",
        "      fitness = calculate_fitness(bag, prices, weights, capacity)\n",
        "      pop[index] = (bag, fitness)\n",
        "\n",
        "    # half of pop size sets of parents\n",
        "    parents = []\n",
        "    for _ in range(population_size // 2):\n",
        "\n",
        "      tournament_select = []\n",
        "      # create tournament of tournament size and two highest fitness score bags\n",
        "      for _ in range(tournament_size):\n",
        "        tournament_select.append(random.choice(pop))\n",
        "\n",
        "      # sort bags in tournaments in descending order by fitness score\n",
        "      tournament_select = sorted(tournament_select, key=lambda x: x[1], reverse = True)\n",
        "      parents.append((tournament_select[0][0], tournament_select[1][0]))\n",
        "\n",
        "\n",
        "    new_pop = []\n",
        "    # generate children from parents\n",
        "    for pair in parents:\n",
        "\n",
        "      # cross and mutate parents\n",
        "      child1, child2 = crossover(pair[0], pair[1], cross_rate)\n",
        "      child1 = mutation(child1, mut_rate)\n",
        "      child2 = mutation(child2, mut_rate)\n",
        "\n",
        "      # append children to next gen population\n",
        "      new_pop.append(child1)\n",
        "      new_pop.append(child2)\n",
        "\n",
        "    pop = new_pop\n",
        "\n",
        "\n",
        "  best_solution_price = 0\n",
        "  best_solution = []\n",
        "  # calc fitness score of each bag in final generation, save fitness score (overweight instances have fitness of 0)\n",
        "  for index, bag in enumerate(pop):\n",
        "    fitness = calculate_fitness(bag, prices, weights, capacity)\n",
        "\n",
        "    if fitness > best_solution_price:\n",
        "      best_solution_price = fitness\n",
        "      best_solution = bag\n",
        "\n",
        "\n",
        "\n",
        "  return best_solution_price, best_solution"
      ]
    },
    {
      "cell_type": "code",
      "execution_count": null,
      "metadata": {
        "id": "5b4hBtUijZzg"
      },
      "outputs": [],
      "source": [
        "# TAKES 2 MINUTES AND 14 SECONDS TO RUN\n",
        "\n",
        "solutions_ga = []\n",
        "\n",
        "for _, row in dataset.iterrows():\n",
        "    target = row['Best price']\n",
        "    solution, indexes = genetic_algorithm(row, population_size = 50, num_generations = 50, mut_rate = 0.5, cross_rate = 0.5, tournament_size = 5)\n",
        "    solutions_ga.append(1 if target == solution else 0)\n"
      ]
    },
    {
      "cell_type": "code",
      "execution_count": null,
      "metadata": {
        "id": "hJ3ceIHSs-W-",
        "colab": {
          "base_uri": "https://localhost:8080/"
        },
        "outputId": "727c1de6-6359-48f6-ef3d-3dc544d565b0"
      },
      "outputs": [
        {
          "output_type": "stream",
          "name": "stdout",
          "text": [
            "Genetic Algorithm Accuracy is 0.9813746330600264\n"
          ]
        }
      ],
      "source": [
        "print(\"Genetic Algorithm Accuracy is\", np.mean(solutions_ga))"
      ]
    },
    {
      "cell_type": "markdown",
      "metadata": {
        "id": "5yn8KLah-xGF"
      },
      "source": [
        "**Your Analysis:**\n",
        "\n",
        "Using the Genetic Algorithm yields high accuracy for the knapsack problem with the default values of 0.1 mutation and 0.7 crossover (96%). In swapping the values of the rates, the accuracy ends the same (96%).\n",
        "\n",
        "We observed the individual adjustment of rates, limiting the genetic algorithm to only mutation or crossover, and found that with constant crossover, the algorithm is much more accurate than constant mutation. However, both mutation and crossover seem to peak in accuracy when set to a mid acceptance point of 0.5, and mutation peaks at a 99% accuracy, vs. 92% for crossover.\n",
        "\n",
        "Crossover is more consistently helpful to the algorithm, however mutation under a filter is even more beneficial.\n"
      ]
    },
    {
      "cell_type": "markdown",
      "metadata": {
        "id": "ekb0LOgF-xUN"
      },
      "source": [
        "------------------------------------------------------------------------------------------------"
      ]
    },
    {
      "cell_type": "markdown",
      "metadata": {
        "id": "NdO_H-4t-6mg"
      },
      "source": [
        "**8. Comparative Study**\n",
        "\n",
        "![algocomp.PNG](data:image/png;base64,iVBORw0KGgoAAAANSUhEUgAAAfwAAAB8CAYAAACMlQJ/AAAAAXNSR0IArs4c6QAAAARnQU1BAACxjwv8YQUAAAAJcEhZcwAAEnQAABJ0Ad5mH3gAABc+SURBVHhe7ZtPr2TFkcX9WdB8CHbmK8AKlrNAsxkkJEZCZoVG1sBi1JIXWAMLbBaYhduSNQihsYSEkfiz6O/0xufJBx2iT9yb+e6r6lv3nsVPVTcyMjIyIjKjql73r371L6/ehRBCCOHgWGEIIYQQjoUVhhBCCOFYWGEIIYQQjoUVhhBCCOFYWGEIIYQQjoUVhhBCCOFYWOHJeOmVN+++/Pqbuycff2HHL8Ubb31w98OPP929/f5Hdpxg/Nvvvr97+bV37Hh4GMz750+/suMhhHAorHAFXJDPnj37BXu/NNHM4adrrntq+IhjjeWLbvjwB37CXzd+q6ThhxBOhRU2sEHVCxLyT//011/I9gQv9r998/f7Vzy78Ws3fMfeGj7WRNywfhpjCCHcMFZoGP35eY/AdzQtNs76TTUNvwdrIzbvffjJC/2VIYQQwkas0OAakQPNFI2BTar+jA4bS38KQEPhPFB/Sq7zR5o0dLgOXuucruHjWdf67e8+u/et6vHDEPWqz11MKMdrtQH4awTnvf7v//XzfKCx0z2o37ShMtgYbdyMF+1rLhW1D9Q3gGcdV5t4r7oaF32u8XN267qgq6lufdhWm3XPa3sNIYRdYoUFXpjdZa/wcsY3al7YgDb0cqwydwGjydIO5GxgeIYc49R1VN/ximfIqePWxXtt3NTBBb+k52R4dTGhXGWIRW0gbEDqN2Xcl/MPduEH1q0xrms4qn+wq/EnsKW+YZx54Xo6D3r4xYBjGk9Q1+Wzi5/+KYm5VnvQQQxU9ua7T+7lbn28r7nDc1c/eP3oD3/+eX4IIewWKyzg0tMLeAlekPUSx7NelERtL63TNYc13AWNZ17goNp2OqDujXrOJ23cdR5x+9V5BH5ocyeqyz0AvFcd3T+oMemAv2rP+Qtb2iArsNGt1eW0roNXFz+H+kz7NZ6krt/lU21qzEMI4aawwkK9gJfg5azNaeni1UuWel2DgI5rfEu4C7rK6sXfNbHaEJaaHXS4DxcTAHmNq/O3Wwd6bER1DwTP1KEM9roYE2fPyZx9xe2HdD7XuODVxY/APuqC0B/mq5tX1+/irPHCe6xRfQ4hhN1jhYW1C1eplzXoLnY3xmdcqu7yhR4v9rVLl35TX1Hb7uJ3DZENZE2vjrmYACd3DbJbB3rwG/53McYzdShb8ptAx8UN6FznL+l8WhuvcXFxAvRR19f9dvNIXX90z6rX7T2EEHaHFRZ4MY5cbu6SXZqPSxT6rilAH5cqLtg65i77CmzqRU3qmu7iH5kHPfehBOjaXeNxcuyn7qnzB3psbnUPBM/Uoayzp6htlcNX/fDn/CWdT2vjNS4uTiP7dfOUamMkLgrsIhZcz+mEEMJusELDUnNTuktWL2KVd/qgu9RJZxNwbteMlpolfNGmRiinHj8AVD2gjbDbo5PrPNI1oqU9EBejtcbGfVVbgOvQxzVbbn2l26/WmouT2y9lXM/pKHV8KZ8da/sPIYTdYIUNuBjxrbpeoLiI+a+l3eUMeJnq5V4bC+bov7rHMxsvLuff//Hp/SvGeFnXZkF0rhvXpuIaA+zqRU5f6/7xXpsTZToXY3hWnU6OuWxYlHVNBT5S1+0BzNjT8bonRffHdXUNvDKPjFvNO/6VPt7XtaivMhcnoPvHM/xCflQG+/VXopl/pQ8wlzr4F/kat+pDCCHsFitcABchLkRcogov1O5yBrxg3TzgbHPczdUmUsEYm5Ibpz3ouYsfYIxrwRb/H3zVg4/qV20AXUycnA1P7cA+ZHUv2my6PeC5+tPZA7RT5yj0UdfSWAEdo00d17zXONM/xqWLn8YKwI7bL+ZpXWEO5tIvFzPqqj7G6j6X4hRCCLvCCoOFDUabVQghhHATWGGwoNHXn3tDCCGEm8AKw/2/SdDGzp+F68+/IYQQwk1gheG5v+OC/JQfQgjhZrHCEEIIIRwLKwwhhBDCsbDCEEIIIRwLKwwhhBDCsbDCEEIIIRwLKwwhhBDCsbDCEEIIIRwLKwwhhBDCsbDCEEIIIRwLKwwhhBDCsbDCEEIIIRwLKwwhhBDCsbDCEEIIIRwLKwwhhBDCsbDCEEIIIRwLKwwhhBDCsbDCEEIIIRwLKyw8e/YshBBCCDvE9W2LFRamDIZgSA3Nk5iFM5A630YaftgdqaF5ErNwBlLn20jDD7sjNTRPYhbOQOp8G2n4YXekhuZJzMIZSJ1vIw0/7I7U0DyJWTgDqfNtpOGH3ZEamicxC2cgdb6NNPywO1JD8yRm4QykzreRhh92R2ponsQsnIHU+TbS8MPuSA3Nk5iFM5A630YaftgdqaF5ErNwBlLn20jDD7vjqDX09vsf3e8N4L3TeSiXiNkbb31w98OPP92D907nErz0ypt3X379zf2e8Ipnp3cN9uTLNXA1Stm3331/9/Jr7zw355rADyc/Gpc6e1Pxs8LCloR8/vSr+/mVJx9/YfVvBSbvsS/5WfTyWuKx4o18PuSShA9OPsKea8hdpo8FbDr5Eri8cYnTJ8KcIWaUXTN+W5ssYvtYF+VDfNG4XfvD0lZcjeqZeuy6nQU+OPkavIO5D7KHDzGuXi919mDPyS1WWJgy+E+0yBzXvGweG3eAXhR6eS2xNd5bL2zMc/IlbqGGLlkLsOnkHUvxYs54SV67aW2pH16Uj+XzrC+qT27p/nI1StktfsN3+VBe9J66er3U2cNaTm6xwsKUwX+gBeY2h/FbOjAVd4D2wmNfjmT2kqxgnpN33EoNXbIWZmKm+anxwuWHb3SzOXtMttTPY9f0rC9YE2sD/noyu4cXySVr9DGAX07u0NwB1HUdh2yPDf9SzMTv0Ru+JmRmwzxUmAf0U5raxOub7z75hW4t4loUVUcT8tvffXb/yvU4psAWbGJu9/Oy2q86s40J+jOxU5aKbSnGAO95oRHspc4jGpc1oO/kjtkaqvXx+z8+vX+vl8FITvRiBG5/Wh+IFeqHz+8/+fRnP2psOa/Kl4C+kzs0Bktr6B5Zs1ozOFu0AzCmtoHGVWtDY6o2oVNzxLjWvADar+sSrQmno2cR1LpGfThfOrgX6L734Sf372td1v0t3VFL8dbYkqXadWcW6HprOXf5Wbtjt8ZUwRwnd+heXKw6RmMIPV2j5hnoOOB+NYYKbei8Gs/q30wMoe/kFisszBjExlgoowmpASSuGB16wXUHADDJLHaFNmrgCRPQjWMPS36OxgLAP1doI9SDTPlajDVvCvzuxi5VlLreSNy6uGPuaE5cTQCtLeg7HYIYqx0eavVhZD8E+k7uqPtUvxWtA/rX7R0gD+48ca7mCna4Tq1D9Q+veF7LTTdOmyNnvatdQl/od0V9gE/dfpf2AjQfS/EGrm4qrKOl/dHOUs5dfhzq/9aYVjDHyR08g/Tb6SgjMVyqI6D76XKH+a/+23/ateiry0O39kwMoe/kFisszBjUTfFAuKAzCLphpw+ZPmuimXzAAFKmAWOSKNOkMekd1NV1XeJUVw8HdVW2BuyMFnTF+TsS427eR3/483P6GttRMM/JHbM1VMdmcwIbsKVzNWaQqQ5rxq2revTd2R8B+k7eoesQPENOHe4d0BfGCNBnlTHfLgZuvzqf62usaI+6Cs+v5qvaqrpqj7qUUUfnagyWfAE1Xt0+VK5rcX3Oh0xjy5jpOowt9ZZqFzJF65Z26h4gqzGd8X9rTCuY4+QV9dHFRJmJocaMMhcPgPeQMRY6l7IaW8h0XdXV+LIWAH45HI0h5jq5xQoLMwZ1U9yABo8wGKrvQEB0vhZTDaAG38Fkdgkhzl/AJNV1l+aQbi2iiXdwnTXc3tRfB9auOlp8oMvBKJjn5A71ZaSGOt/cHIXzGbMOjLu4Vl+ZI+aSvnAu649z18AcJ1+i2zPj6Px1e8MrnnWuni/ssdNzNrscVbtEfXH+jZz1f/2P/37OX7DkS4W5hB3mzvnT2RyNd42t2nPo3LoOoR8jPoz672oAdPNHwBwnr+gamg+395kYdnuqMeJzB8bdPNobjeUsmO/kFisszBjUTblN1GC4ZClI2K9ff9cW01IAHTVxNSFrBYI13LojcwF1HYiVm0OW5ipub+qvgzF1PrCIdX+ag1Ewz8kd6u9IDXW+qbwDa9FeB3zoakZ9ZY4ooy7jyliOgjlOPorui744f93e8Ipn1XMXlOrp/qpNl6Ol86q+OP9GzvpvPvzEXqhdvVTW1gDcc2dzNN41tmqvA/bUfoV+jPgw6r+rAdDNHwFznLyia2jsyENj2O2pxojPHZzr8gtGYzkL5ju5xQoLMwZ1E3jFs47XYNQgqC7piumhARxJCHSqjP45WefjQ8DarqBHcHtz/i6B2FGfdrbuD/Oc3DFbQ51voz539TCis1YLn/7pr/d7WLLdgflOPgP9pn/OX7c3vOJZ9dz5Uj3YgczZdLmovrl5nWzkrHc6o3Whserg/M7maLyrryM+qg7mwoabN+JDt16duzWmDsxxcofWDN7r2ENi6OZRXmPk8ubo9EZjOQvmO7nFCgtTBv+BJoWFWMcYDN10TQr+fozxLnE1gJAhcGqftjBOnS4hlKvPtKdrYA7mQoY5db7qUh9/k+HzGrBTfRvF7W0kxpinPjs7jEXN6QiY5+QdGsu1Gurqo9rpcoL3zKcePNjBvz7GK+bSDnU0rtW+rguqXyNgnpM7YBt+aZwgY1wYK90H/XW51phQT/frYsA9qmwpR6wnPjt/sYbzGXC+6lIfdPY0N1ybc5XOPqh1pWupTee7i7eLbV0DMoA5qF2dA12OwS5k9GPEh1H/VU/9Vz2dPwLmOLlD9wy47zo2GsNuns7lPjW2qoe98p7Ac40Z9ZycNVZ1b+Zv+EQ34tBi0aQoSAKSoUW2VIyQaVIq1KmJhKzac3B+LTqOOTnRwlwDutW3Ubq9rcW4G9d4V52Zgw19J19itIa6+gCjOenWoj1do4P1AWod6lqjYJ6TO9b84wWlNU5/mVetGfXf1T3tra27lKOu5kDni45VuUKfdb8O+gJdRffqdHRtxMLtD3qj8XaxXatdXdNBP0Z8mPFfZQ6dPwLmOHnHUt7JaAyrDucBlyeMqw2ie67+cb6LZbeXmRhC38ktVliYMih0wYYMY6rriogJmSlG4NbVeS6RhGOcw/93C3SN6i/H1Ffi9nsplvZWfQaMse6baPGDujeN6RrQd/I1RmpI/XI+jebExUBz7vbf1Qfg5eByMQLmOnlHdxmpX1oDlLua0YuIepoLrY2aI9irNrscqc9473wBmhsdc/Wh9oHuGSBnzhdF18P7Oq7r4lX/S5baHI13F1uNG4Ee9Os84PY24oOus+Z/lYORmHZgjpOvoTlSar5mYqixd3lSuaKxqTqc38XS+ad+rAF9J7dYYWHKYAiGs9VQd4HOkHMXboWuaY6QOt/GVPyssJCEhK2crYa6T/Mz5NyFPYJvq/pvkuo31Nl6T51vYyp+VlhIQsJWzlJD+HaDvZLZbztKzl3YI2j4+Jla65w8pN4xz8nDGFPxs8JCEhK2cpYa0oa/pdmDnLuwR1zDr3/nniF1vo2p+FlhIQkJW0kNzZOYhTOQOt9GGn7YHamheRKzcAZS59tIww+7IzU0T2IWzkDqfBtp+GF3pIbmSczCGUidbyMNP+yO1NA8iVk4A6nzbVyk4YcQQghhf7i+bbHCwpTBEAypoXkSs3AGUufbSMMPuyM1NE9iFs5A6nwbafhhd6SG5knMwhlInW8jDT/sjtTQPIlZOAOp822k4YfdkRqaJzELZyB1vo00/LA7UkPzJGbhDKTOt5GGH3ZHamiexCycgdT5NtLww+5IDc2TmIUzkDrfRhp+2B2poXkSs3AGUufbSMMPuyM1NE9iFs5A6nwbafhhd6SG5knMwhlInW8jDX+Sl1558+7Lr7+5e/LxF3b886df3ccA/PDjT3dvvPXBczpvv//Rzzqg2tLxb7/7/u7l1955btzJjwL27eSPCWKHGDLOyCly63QBc6K5Yi3QRs3jWq08JljfycMcOK84tzjHdWztbOt4N9/JwzjXqvN6P3T3bb0DAO4Kju+tJuCHk1ussDBl8IbgRcDkuUscidPGAZ1aKCgGvSxol0WCZ8zhOGyoTdj62zd//3n8iFy6hniYmUMeWo2zooda866HlTb1sEP3Wof5qOfu2iBfiGXNG56XzraeU9aL1grqoquvMM416rzeD6DmW/W6M77HmpiKnxUWjnrxIFFIrEscqI0aVN1uLp6ZeK7DMRQVxlhoGOsK7ChcuoZw0Orhdfkj1McHM+YOc+sHL4xxfMneJTjqubsmzBnQM+ZyqWeZ7/XDHt7TBhuDjoeHcY06R055H1Pmcrx0F++1JtLwJ9GDrnJXJAAJprxrAkg6v/XDjhYRCgPz8YpxNBm81/lHY08NHzqIOecw75SrPsY4jhzy/TVIw98Gz/V7H35y/6pnEHlcOtu/fv3d+1e9vPGeNjBf7YWHc406R65cvlSOc6+/zFZYT3uriTT8SZjIeplrMSjQY3NBwmujAVo8tfGwMFwBHZVL1xBjyXzVZwUy5AA504bPMc7RDwDIEezBLnUvTRr+Nuo501rQPCt6tvGeOacNnuczfEi/Ftdq+O78qry7y5U91kQa/iRMnF78oLsUtDC6IsEz5BjHM2wjjoAFA5mzf0SuUUPMI+PsYqsHljnSvFNGG8gfZPWb/zW4RsyOip5L1oXWw8jZrvWEOqGM5zps5xp1jrOrf74DeI+1eR/wbsAvQsw58845e6wJ+OHkFissTBm8QZgwTSwYuRT0vergGfKuCPQTIYsRceafAdycW+bSNcQYaryRT80NdPDM+DJHNe8V1AB18B57Aa42HpOjn7tLUc8ez7fmC+9d/rrzTFAHnIf3rAXYxzpVP6xzrTrXexYgj8ghc8d8ai45h+ff8aJrAms5ucUKC1MGbxBeCDWp3aUAPSazuyBqc1G4HuZinn57hOxahXJNLl1DLleMM+S1CQDKlg6z5kMPtuawznksjn7uLgHzojnVOqDM1QvQs13HcEb5Ib2eU9haqqPQ8yLrXOsA+XN3+d5rIg1/El4INTldoiFnkXSNXQtB5UDtokhoC0BfPwAchUvWUJc/gNhi7H8++8u9Dx3uoOOZHxKwxtP//b9f5EXr4BLALycPPchVza3CX9BGzrZSaww6WIvj9bIP4yAvTn5p9Hzjucsh5O5+2EtNTMXPCgsvKiHXoiaOIGH1J/aqy6Kpc/Hskg39+o1eL5g6fhQuWUPMSb2oOznpckcg51zYSsO/TVwdjJxtpV7esAVZNx7GeVF1jpxpI0ct4Lnevd1dvpeaSMOfBAlBYupBp1yT5pIPmV4eXeEAFIWuU3W74rp1Ll1DOFxYQw9czUtlqeFjTv2FBrlj0+BcXe+xOfq5uxY8x8ydytbONkCu64dw1aUtV0dhnWvUOXKIf4zHZ3dfANSI1gByjjuk6u2pJqbiZ4WFo188S8nhGGIAtBgUzKVO12S0IFTO4gNoItpkjgL25uSPCQ/naCwx5ho+5fWQ11q49GG+RszOAPOmDV/lzKc7m9RxuYY9zq22wzjXqHOeaeZr6YvA2l2+t5rAWk5uscLClMEQDKmheRKzcAZS59tIww+7IzU0T2IWzkDqfBtp+GF3pIbmSczCGUidbyMNP+yO1NA8iVk4A6nzbaThh92RGponMQtnIHW+jTT8sDtSQ/MkZuEMpM63kYYfdkdqaJ7ELJyB1Pk20vDD7kgNzZOYhTOQOt9GGn7YHamheRKzcAZS59u4SMMPIYQQwv5wfdtihSGEEEI4FlYYQgghhGNhhSGEEEI4FlYYQgghhGNhhSGEEEI4FlYYQgghhGNhhSGEEEI4FlYYQgghhGNhhSGEEEI4FlYYQgghhGNhhSGEEEI4FlYYQgghhGNhhSGEEEI4FlYYQgghhGNhhSGEEEI4FlYYQgghhAPx6t3/AxO6vkm1n8WfAAAAAElFTkSuQmCC)\n",
        "\n",
        "\n",
        "![2.PNG](data:image/png;base64,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)\n",
        "\n",
        "![3.PNG](data:image/png;base64,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)"
      ]
    },
    {
      "cell_type": "markdown",
      "metadata": {
        "id": "4Ypp7TpkAIUe"
      },
      "source": [
        "--------------------------------------------------------------------------\n"
      ]
    },
    {
      "cell_type": "markdown",
      "metadata": {
        "id": "8Ikmq-si_23Y"
      },
      "source": [
        "**9. Conclusion**\n",
        "\n",
        "Overall, through this assignment, we have learned that there are many parameters that affect the effectiveness of an algorithm. It seems to be an overall effort to most efficiently review the most possibilities. Generate and test is not possible for larger datasets, so we see algorithms such as Genetic that maintain a guided randomness to find the best solution in a reasonable amount of time. Our genetic implementation took longer than Generate + Test, however with the addition of more items, Generate + Test becomes exponentially greater in runtime.\n",
        "\n",
        "In Simulated Annealing, it was interesting to observe the impact of a starting dataset on accuracy. Starting from nothing proved to be more accurate than a randomly selected bag, as maybe the probability of generating an overweight bag is far more probably than generating a close to optimal solution. It was also demonstrated that screening the initial random bag to be within weight capacity greatly improved accuracy.\n",
        "\n",
        "Finally in the Genetic algorithm, the changing of acceptance rates showed consistency in the crossover strategy, and great effectiveness in mutating children 50% of the time. It would be good to observe a more fine causal relationship between the two, as setting both rates to 0.5 yields 98% accuracy, less than only mutation at 0.5."
      ]
    },
    {
      "cell_type": "markdown",
      "metadata": {
        "id": "41s8gvCNABDy"
      },
      "source": [
        "--------------------------------------------------------------------------\n"
      ]
    },
    {
      "cell_type": "markdown",
      "metadata": {
        "id": "PtbOgI1q_9a0"
      },
      "source": [
        "**10 References**\n",
        "\n",
        "Greedy Algorithm:\n",
        "- referenced general class slides and previous knowledge\n",
        "\n",
        "Simulated Annealing:\n",
        "- referenced slides 22, 24 and 25 of CSI4106 Population Based slide deck\n",
        "\n",
        "Genetic Algorithm:\n",
        "- referenced this solution methodology: https://arpitbhayani.me/blogs/genetic-knapsack/\n",
        "- referenced slides 42 amd 43 of CSI4106 Population Based slide deck\n"
      ]
    }
  ],
  "metadata": {
    "colab": {
      "provenance": []
    },
    "kernelspec": {
      "display_name": "Python 3",
      "language": "python",
      "name": "python3"
    },
    "language_info": {
      "codemirror_mode": {
        "name": "ipython",
        "version": 3
      },
      "file_extension": ".py",
      "mimetype": "text/x-python",
      "name": "python",
      "nbconvert_exporter": "python",
      "pygments_lexer": "ipython3",
      "version": "3.11.5"
    },
    "orig_nbformat": 4
  },
  "nbformat": 4,
  "nbformat_minor": 0
}